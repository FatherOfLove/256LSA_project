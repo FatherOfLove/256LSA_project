{
  "nbformat": 4,
  "nbformat_minor": 0,
  "metadata": {
    "colab": {
      "name": " option_LSTM_model_.ipynb",
      "private_outputs": true,
      "provenance": [],
      "collapsed_sections": [],
      "include_colab_link": true
    },
    "kernelspec": {
      "name": "python3",
      "display_name": "Python 3"
    },
    "accelerator": "GPU"
  },
  "cells": [
    {
      "cell_type": "markdown",
      "metadata": {
        "id": "view-in-github",
        "colab_type": "text"
      },
      "source": [
        "<a href=\"https://colab.research.google.com/github/FatherOfLove/256LSA_project/blob/master/models/model1_option_LSTM.ipynb\" target=\"_parent\"><img src=\"https://colab.research.google.com/assets/colab-badge.svg\" alt=\"Open In Colab\"/></a>"
      ]
    },
    {
      "cell_type": "code",
      "metadata": {
        "id": "yyoLYRx-y8rU"
      },
      "source": [
        "import io\n",
        "import os\n",
        "import pandas as pd\n",
        "import numpy as np\n",
        "from google.colab import drive\n",
        "from keras.models import Sequential, Model, load_model\n",
        "from keras.layers import Dense, Activation, LeakyReLU, BatchNormalization, LSTM, Bidirectional, Input, Concatenate\n",
        "from keras import backend as K\n",
        "from keras.callbacks import TensorBoard\n",
        "from keras.optimizers import Adam\n",
        "from keras.utils import plot_model\n",
        "from sklearn.model_selection import train_test_split\n",
        "drive.mount('/gdrive')"
      ],
      "execution_count": null,
      "outputs": []
    },
    {
      "cell_type": "code",
      "metadata": {
        "id": "6jdR7jci04Bv"
      },
      "source": [
        "option = pd.read_csv('/gdrive/My Drive/Data set/Option/underlying/put/final_put.csv')"
      ],
      "execution_count": null,
      "outputs": []
    },
    {
      "cell_type": "code",
      "metadata": {
        "id": "WMa3C0wj1LwG"
      },
      "source": [
        "option.head()"
      ],
      "execution_count": null,
      "outputs": []
    },
    {
      "cell_type": "code",
      "metadata": {
        "id": "QWDjOZGgCAt1"
      },
      "source": [
        "option.info()"
      ],
      "execution_count": null,
      "outputs": []
    },
    {
      "cell_type": "code",
      "metadata": {
        "id": "_OLx-XzYQ6BG"
      },
      "source": [
        "option = option.drop(columns=['Unnamed: 0','UnderlyingSymbol','Exchange','OptionSymbol','Blank','Expiration',\n",
        "                     'DataDate','Last','Volume','OpenInterest','IV','Delta','Gamma','Theta','Vega','Alias',\n",
        "                     'sigma_5','sigma_10','sigma_21','sigma_30'])"
      ],
      "execution_count": null,
      "outputs": []
    },
    {
      "cell_type": "code",
      "metadata": {
        "id": "oZEd9WmpRFq2"
      },
      "source": [
        "option = option.drop(columns=['black_scholes_pred_21'])"
      ],
      "execution_count": null,
      "outputs": []
    },
    {
      "cell_type": "code",
      "metadata": {
        "id": "4CrK8Z0jI_UD"
      },
      "source": [
        "option.info()"
      ],
      "execution_count": null,
      "outputs": []
    },
    {
      "cell_type": "code",
      "metadata": {
        "id": "jCI5-fKyRAPB"
      },
      "source": [
        "call_df = option"
      ],
      "execution_count": null,
      "outputs": []
    },
    {
      "cell_type": "code",
      "metadata": {
        "id": "6SYsLSa4WcSw"
      },
      "source": [
        "call_df = call_df.dropna()"
      ],
      "execution_count": null,
      "outputs": []
    },
    {
      "cell_type": "code",
      "metadata": {
        "id": "Mfo_Jw80Wgms"
      },
      "source": [
        "call_df"
      ],
      "execution_count": null,
      "outputs": []
    },
    {
      "cell_type": "code",
      "metadata": {
        "id": "27XntRZ4Zc8J"
      },
      "source": [
        "call_df.info()"
      ],
      "execution_count": null,
      "outputs": []
    },
    {
      "cell_type": "code",
      "metadata": {
        "id": "3BlNUqio9k8R"
      },
      "source": [
        "call_X_train, call_X_test, call_y_train, call_y_test = train_test_split(call_df.drop(['Bid', 'Ask'], axis=1).values,\n",
        "                                                                        ((call_df.Bid + call_df.Ask) / 2).values,\n",
        "                                                                        test_size=0.2, random_state=42)"
      ],
      "execution_count": null,
      "outputs": []
    },
    {
      "cell_type": "code",
      "metadata": {
        "id": "vT4je1pkLnnC"
      },
      "source": [
        "call_X_train.shape"
      ],
      "execution_count": null,
      "outputs": []
    },
    {
      "cell_type": "code",
      "metadata": {
        "id": "dHaX3X74RX_J"
      },
      "source": [
        "N_TIMESTEPS = 21\n",
        "call_X_train = [call_X_train[:, -N_TIMESTEPS:].reshape(call_X_train.shape[0], N_TIMESTEPS, 1), call_X_train[:, :4]]\n",
        "call_X_test = [call_X_test[:, -N_TIMESTEPS:].reshape(call_X_test.shape[0], N_TIMESTEPS, 1), call_X_test[:, :4]]"
      ],
      "execution_count": null,
      "outputs": []
    },
    {
      "cell_type": "code",
      "metadata": {
        "id": "mkpRJxwo9-uc"
      },
      "source": [
        "layers = 4\n",
        "n_timesteps = 60\n",
        "features = 4\n",
        "n_batch = 1024"
      ],
      "execution_count": null,
      "outputs": []
    },
    {
      "cell_type": "code",
      "metadata": {
        "id": "X3YPp1UL-Lev"
      },
      "source": [
        "def LSTM_model():\n",
        "    close_history = Input((N_TIMESTEPS, 1))\n",
        "    input2 = Input((features,))\n",
        "    \n",
        "    lstm = Sequential()\n",
        "    lstm.add(LSTM(units=8, input_shape=(N_TIMESTEPS, 1), return_sequences=True))\n",
        "    lstm.add(LSTM(units=8, return_sequences=True))\n",
        "    lstm.add(LSTM(units=8, return_sequences=True))\n",
        "    lstm.add(LSTM(units=8, return_sequences=False))\n",
        "    input1 = lstm(close_history)\n",
        "    \n",
        "    connect = Concatenate()([input1, input2])\n",
        "    \n",
        "    for _ in range(layers - 1):\n",
        "        connect = Dense(100)(connect)\n",
        "        connect = BatchNormalization()(connect)\n",
        "        connect = LeakyReLU()(connect)\n",
        "    \n",
        "    predict = Dense(1, activation='relu')(connect)\n",
        "\n",
        "    return Model(inputs=[close_history, input2], outputs=predict)"
      ],
      "execution_count": null,
      "outputs": []
    },
    {
      "cell_type": "code",
      "metadata": {
        "id": "sT9CWWIP-No6"
      },
      "source": [
        "call_model = LSTM_model()"
      ],
      "execution_count": null,
      "outputs": []
    },
    {
      "cell_type": "code",
      "metadata": {
        "id": "KJCwUcvw-cNB"
      },
      "source": [
        "call_model.summary()"
      ],
      "execution_count": null,
      "outputs": []
    },
    {
      "cell_type": "code",
      "metadata": {
        "id": "jAB3ggsM__0e"
      },
      "source": [
        "call_model.compile(optimizer=Adam(lr=1e-4), loss='mse')\n",
        "history = call_model.fit(call_X_train, call_y_train, \n",
        "                    batch_size=n_batch, epochs=1000, \n",
        "                    validation_split = 0.01,\n",
        "                    callbacks=[TensorBoard()],\n",
        "                    verbose=1\n",
        "                    )"
      ],
      "execution_count": null,
      "outputs": []
    },
    {
      "cell_type": "code",
      "metadata": {
        "id": "aJpGOT8bAFax"
      },
      "source": [
        "call_model.evaluate(call_X_test, call_y_test, batch_size=512)"
      ],
      "execution_count": null,
      "outputs": []
    },
    {
      "cell_type": "code",
      "metadata": {
        "id": "vcTSpYz9GAhQ"
      },
      "source": [
        "# Load the TensorBoard notebook extension\n",
        "%load_ext tensorboard"
      ],
      "execution_count": null,
      "outputs": []
    },
    {
      "cell_type": "code",
      "metadata": {
        "id": "sRVMgr2jGDUN"
      },
      "source": [
        "tensorboard --logdir /content/logs/"
      ],
      "execution_count": null,
      "outputs": []
    },
    {
      "cell_type": "markdown",
      "metadata": {
        "id": "Vw21cMJxFM-V"
      },
      "source": [
        ""
      ]
    },
    {
      "cell_type": "code",
      "metadata": {
        "id": "dBvwCMVMBxOw"
      },
      "source": [
        "call_model.save('/gdrive/My Drive/Data set/Option/lstm_put_2.h5')"
      ],
      "execution_count": null,
      "outputs": []
    },
    {
      "cell_type": "code",
      "metadata": {
        "id": "hlqgnchNnasw"
      },
      "source": [
        "call_y_pred2 = call_model.predict(call_X_test)\n",
        "'test set mse', np.mean(np.square(call_y_test - np.reshape(call_y_pred2, call_y_pred2.shape[0])))"
      ],
      "execution_count": null,
      "outputs": []
    },
    {
      "cell_type": "code",
      "metadata": {
        "id": "HZMjOkvRnEM-"
      },
      "source": [
        "call_y_test\n",
        "for i in range(10):\n",
        "  print(\"y: \"+ str(call_y_test[i]),\", pred: \"+ str(call_y_pred2[i]))"
      ],
      "execution_count": null,
      "outputs": []
    },
    {
      "cell_type": "code",
      "metadata": {
        "id": "SAgATw-roIdg"
      },
      "source": [
        "call_y_test"
      ],
      "execution_count": null,
      "outputs": []
    },
    {
      "cell_type": "code",
      "metadata": {
        "id": "_wb032RLa1QE"
      },
      "source": [
        "!tensorboard dev upload \\\n",
        "  --logdir /content/logs/ \\\n",
        "  --name \" LSTM2_all_call\" \\\n",
        "  --description \"n_units = 400,layers = 4,n_batch = 8196,n_epochs = 400,learning_rate=1e-4\" \\\n",
        "  --one_shot"
      ],
      "execution_count": null,
      "outputs": []
    }
  ]
}